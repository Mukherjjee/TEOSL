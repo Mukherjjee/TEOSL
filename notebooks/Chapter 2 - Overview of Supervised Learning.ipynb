{
 "cells": [
  {
   "cell_type": "markdown",
   "metadata": {
    "toc": "true"
   },
   "source": [
    "# Table of Contents\n",
    " <p><div class=\"lev1\"><a href=\"#Variable-Types-and-Terminology\"><span class=\"toc-item-num\">1&nbsp;&nbsp;</span>Variable Types and Terminology</a></div><div class=\"lev2\"><a href=\"#Terminology\"><span class=\"toc-item-num\">1.1&nbsp;&nbsp;</span>Terminology</a></div><div class=\"lev2\"><a href=\"#quantitative-vs-qualitative\"><span class=\"toc-item-num\">1.2&nbsp;&nbsp;</span>quantitative vs qualitative</a></div><div class=\"lev1\"><a href=\"#Least-Squares-and-Nearest-Neighbors\"><span class=\"toc-item-num\">2&nbsp;&nbsp;</span>Least Squares and Nearest Neighbors</a></div><div class=\"lev2\"><a href=\"#Linear-Models-and-Least-Squares\"><span class=\"toc-item-num\">2.1&nbsp;&nbsp;</span>Linear Models and Least Squares</a></div>"
   ]
  },
  {
   "cell_type": "markdown",
   "metadata": {},
   "source": [
    "# Variable Types and Terminology"
   ]
  },
  {
   "cell_type": "markdown",
   "metadata": {},
   "source": [
    "## Terminology"
   ]
  },
  {
   "cell_type": "markdown",
   "metadata": {},
   "source": [
    "- **Supervised learning** is to use the inputs to predict the values of the outputs\n",
    "    - **inputs**: also called predictors, or independent variables.\n",
    "    - **outputs**: also called responses, or dependent variables."
   ]
  },
  {
   "cell_type": "markdown",
   "metadata": {},
   "source": [
    "## quantitative vs qualitative"
   ]
  },
  {
   "cell_type": "markdown",
   "metadata": {},
   "source": [
    "http://regentsprep.org/regents/math/algebra/ad1/qualquant.htm"
   ]
  },
  {
   "cell_type": "markdown",
   "metadata": {},
   "source": [
    "<img  src=\"images/Screen Shot 2016-04-16 at 11.49.06 AM.png\"/>"
   ]
  },
  {
   "cell_type": "markdown",
   "metadata": {},
   "source": [
    "- **Qualitative variables** are also referred to as categorical or discrete variables as well as factors."
   ]
  },
  {
   "cell_type": "markdown",
   "metadata": {},
   "source": [
    "# Least Squares and Nearest Neighbors"
   ]
  },
  {
   "cell_type": "markdown",
   "metadata": {},
   "source": [
    "## Linear Models and Least Squares"
   ]
  },
  {
   "cell_type": "markdown",
   "metadata": {},
   "source": [
    "$$\\hat Y = \\hat β_0 + \\sum_{j=1}^p X_j \\hat β_j$$"
   ]
  },
  {
   "cell_type": "markdown",
   "metadata": {},
   "source": [
    "- $\\hat β_0$: intercept, also known as the bias in machine learning."
   ]
  },
  {
   "cell_type": "code",
   "execution_count": null,
   "metadata": {
    "collapsed": true
   },
   "outputs": [],
   "source": []
  }
 ],
 "metadata": {
  "kernelspec": {
   "display_name": "Python 2",
   "language": "python",
   "name": "python2"
  },
  "language_info": {
   "codemirror_mode": {
    "name": "ipython",
    "version": 2
   },
   "file_extension": ".py",
   "mimetype": "text/x-python",
   "name": "python",
   "nbconvert_exporter": "python",
   "pygments_lexer": "ipython2",
   "version": "2.7.11"
  },
  "toc": {
   "toc_cell": true,
   "toc_number_sections": true,
   "toc_threshold": "8",
   "toc_window_display": true
  }
 },
 "nbformat": 4,
 "nbformat_minor": 0
}
